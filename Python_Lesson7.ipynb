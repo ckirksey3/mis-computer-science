{
  "nbformat": 4,
  "nbformat_minor": 0,
  "metadata": {
    "colab": {
      "name": "Python_Lesson7.ipynb",
      "provenance": [],
      "include_colab_link": true
    },
    "kernelspec": {
      "name": "python3",
      "display_name": "Python 3"
    },
    "language_info": {
      "name": "python"
    }
  },
  "cells": [
    {
      "cell_type": "markdown",
      "metadata": {
        "id": "view-in-github",
        "colab_type": "text"
      },
      "source": [
        "<a href=\"https://colab.research.google.com/github/ckirksey3/mis-computer-science/blob/main/Python_Lesson7.ipynb\" target=\"_parent\"><img src=\"https://colab.research.google.com/assets/colab-badge.svg\" alt=\"Open In Colab\"/></a>"
      ]
    },
    {
      "cell_type": "markdown",
      "metadata": {
        "id": "MGnruwzL8ES7"
      },
      "source": [
        "# Iteration Part 2\n",
        "\n",
        "### Quick Review\n",
        "\n",
        "**For Loop**\n",
        "\n",
        "The for loop processes each item in a list. Each item in turn is (re-)assigned to the loop variable, and the body of the loop is executed."
      ]
    },
    {
      "cell_type": "code",
      "metadata": {
        "id": "eZok47vfpuRX"
      },
      "source": [
        "for f in [\"Sam\", \"Vishnu\", \"Shaq\", \"Rafa\", \"Shay\", \"Davin\"]:\n",
        "    invitation = \"Hi \" + f + \".  Please come to my party on Saturday!\"\n",
        "    print(invitation)"
      ],
      "execution_count": null,
      "outputs": []
    },
    {
      "cell_type": "markdown",
      "metadata": {
        "id": "k6uLShhSuqxQ"
      },
      "source": [
        "**While Loop**\n",
        "\n",
        "The while loop runs a section of code until a given condition is false."
      ]
    },
    {
      "cell_type": "code",
      "metadata": {
        "id": "tV8nKJ3_siho"
      },
      "source": [
        "count = 10\n",
        "while count > 0:\n",
        "  print(count)\n",
        "  count = count - 1\n",
        "print(\"blastoff!\")"
      ],
      "execution_count": null,
      "outputs": []
    },
    {
      "cell_type": "markdown",
      "metadata": {
        "id": "18anFlP7vKjo"
      },
      "source": [
        "## Abbreviated assignment\n",
        "Incrementing a variable is so common that Python provides an abbreviated syntax for it:\n",
        "\n",
        "```\n",
        ">>> count = 0\n",
        ">>> count += 1\n",
        ">>> count\n",
        "1\n",
        ">>> count += 1\n",
        ">>> count\n",
        "2\n",
        "```\n",
        "\n",
        "count += 1 is an abreviation for count = count + 1 . We pronounce the operator as “plus-equals”. The increment value does not have to be 1:\n",
        "\n",
        "```\n",
        ">>> n = 2\n",
        ">>> n += 5\n",
        ">>> n\n",
        "7\n",
        "```\n",
        "\n",
        "There are similar abbreviations for -=, *=, /=, //= and %=:\n",
        "\n",
        "```\n",
        ">>> n = 2\n",
        ">>> n *= 5\n",
        ">>> n\n",
        "10\n",
        ">>> n -= 4\n",
        ">>> n\n",
        "6\n",
        ">>> n //= 2\n",
        ">>> n\n",
        "3\n",
        ">>> n %= 2\n",
        ">>> n\n",
        "1\n",
        "```"
      ]
    },
    {
      "cell_type": "markdown",
      "metadata": {
        "id": "BXkJxCsPxzDX"
      },
      "source": [
        "## Example (completed as a class)\n",
        "\n",
        "Write a function that prints the first `n` numbers in the fibonacci sequence\n",
        "\n",
        "Example\n",
        "```\n",
        ">>>> print_fibonacci(7)\n",
        "0, 1, 1, 2, 3, 5, 8\n",
        "```"
      ]
    },
    {
      "cell_type": "code",
      "metadata": {
        "id": "8yMeGTP-yR1Z"
      },
      "source": [
        "def print_fibonacci(n):\n",
        "  # add code here\n",
        "\n",
        "print_fibonacci(7)"
      ],
      "execution_count": null,
      "outputs": []
    },
    {
      "cell_type": "markdown",
      "metadata": {
        "id": "oinnwbkQwMs-"
      },
      "source": [
        "## Assignment 1\n",
        "\n",
        "Using a while loop and abbreviated assignment, complete this function by adding the right number of exclamation points to the string and then printing the result.\n",
        "\n",
        "Example\n",
        "```\n",
        ">>>> shout(\"hey\", 5)\n",
        "\"hey!!!!!\"\n",
        "```"
      ]
    },
    {
      "cell_type": "code",
      "metadata": {
        "id": "VSuIt4I1w3bF"
      },
      "source": [
        "def shout(phrase, exclamation_count):\n",
        "  # your code here\n",
        "  print(phrase)\n",
        "\n",
        "shout(\"hey\", 5)\n",
        "shout(\"let's go\", 3)"
      ],
      "execution_count": null,
      "outputs": []
    },
    {
      "cell_type": "markdown",
      "metadata": {
        "id": "-DL7ke4BvkQL"
      },
      "source": [
        "## Range\n",
        "\n",
        "You can use the range keyword to create a list of numbers in a certain range.\n",
        "\n",
        "```\n",
        "range(start, stop, step)\n",
        "```"
      ]
    },
    {
      "cell_type": "code",
      "metadata": {
        "id": "a7QRjU9Ov8SE"
      },
      "source": [
        "for i in range(4):\n",
        "  print(i)"
      ],
      "execution_count": null,
      "outputs": []
    },
    {
      "cell_type": "code",
      "metadata": {
        "id": "YfTr6124v_uJ"
      },
      "source": [
        "for i in range(5, 11, 5):\n",
        "  print(i)"
      ],
      "execution_count": null,
      "outputs": []
    },
    {
      "cell_type": "markdown",
      "metadata": {
        "id": "BqfN6pTexcpV"
      },
      "source": [
        "## Assignment 2\n",
        "\n",
        "Now copy your function from Assignment 1 below and update it to use a for loop and the range function instead."
      ]
    },
    {
      "cell_type": "code",
      "metadata": {
        "id": "vZRp9TooxjmO"
      },
      "source": [
        ""
      ],
      "execution_count": null,
      "outputs": []
    },
    {
      "cell_type": "markdown",
      "metadata": {
        "id": "cP1J1pC59rmr"
      },
      "source": [
        "## Assignment 3\n",
        "\n",
        "Use iteration to draw a circle with Turtle. Afterwards, try getting fancy by changing the color and turn radius to make a rainbow spiral."
      ]
    },
    {
      "cell_type": "code",
      "metadata": {
        "colab": {
          "base_uri": "https://localhost:8080/"
        },
        "id": "yW2ManUa90o9",
        "outputId": "aebf692d-b6be-492f-da91-6a55113eccaa"
      },
      "source": [
        "!pip3 install ColabTurtle\n",
        "import ColabTurtle.Turtle as t\n",
        "t.initializeTurtle(initial_speed=5) \n",
        "\n",
        "# add a loop here\n",
        "t.color(\"red\")\n",
        "t.forward(50)\n",
        "t.left(25)"
      ],
      "execution_count": null,
      "outputs": [
        {
          "output_type": "stream",
          "name": "stdout",
          "text": [
            "Requirement already satisfied: ColabTurtle in /usr/local/lib/python3.7/dist-packages (2.1.0)\n"
          ]
        },
        {
          "output_type": "display_data",
          "data": {
            "text/html": [
              "\n",
              "      <svg width=\"800\" height=\"500\">\n",
              "        <rect width=\"100%\" height=\"100%\" fill=\"black\"/>\n",
              "        \n",
              "        <g visibility=visible transform=\"rotate(360,400,250) translate(382, 232)\">\n",
              "<path style=\" stroke:none;fill-rule:evenodd;fill:white;fill-opacity:1;\" d=\"M 18.214844 0.632812 C 16.109375 1.800781 15.011719 4.074219 15.074219 7.132812 L 15.085938 7.652344 L 14.785156 7.496094 C 13.476562 6.824219 11.957031 6.671875 10.40625 7.066406 C 8.46875 7.550781 6.515625 9.15625 4.394531 11.992188 C 3.0625 13.777344 2.679688 14.636719 3.042969 15.027344 L 3.15625 15.152344 L 3.519531 15.152344 C 4.238281 15.152344 4.828125 14.886719 8.1875 13.039062 C 9.386719 12.378906 10.371094 11.839844 10.378906 11.839844 C 10.386719 11.839844 10.355469 11.929688 10.304688 12.035156 C 9.832031 13.09375 9.257812 14.820312 8.96875 16.078125 C 7.914062 20.652344 8.617188 24.53125 11.070312 27.660156 C 11.351562 28.015625 11.363281 27.914062 10.972656 28.382812 C 8.925781 30.84375 7.945312 33.28125 8.238281 35.1875 C 8.289062 35.527344 8.28125 35.523438 8.917969 35.523438 C 10.941406 35.523438 13.074219 34.207031 15.136719 31.6875 C 15.359375 31.417969 15.328125 31.425781 15.5625 31.574219 C 16.292969 32.042969 18.023438 32.964844 18.175781 32.964844 C 18.335938 32.964844 19.941406 32.210938 20.828125 31.71875 C 20.996094 31.625 21.136719 31.554688 21.136719 31.558594 C 21.203125 31.664062 21.898438 32.414062 22.222656 32.730469 C 23.835938 34.300781 25.5625 35.132812 27.582031 35.300781 C 27.90625 35.328125 27.9375 35.308594 28.007812 34.984375 C 28.382812 33.242188 27.625 30.925781 25.863281 28.425781 L 25.542969 27.96875 L 25.699219 27.785156 C 28.945312 23.960938 29.132812 18.699219 26.257812 11.96875 L 26.207031 11.84375 L 27.945312 12.703125 C 31.53125 14.476562 32.316406 14.800781 33.03125 14.800781 C 33.976562 14.800781 33.78125 13.9375 32.472656 12.292969 C 28.519531 7.355469 25.394531 5.925781 21.921875 7.472656 L 21.558594 7.636719 L 21.578125 7.542969 C 21.699219 6.992188 21.761719 5.742188 21.699219 5.164062 C 21.496094 3.296875 20.664062 1.964844 19.003906 0.855469 C 18.480469 0.503906 18.457031 0.5 18.214844 0.632812\"/>\n",
              "</g>\n",
              "      </svg>\n",
              "    "
            ],
            "text/plain": [
              "<IPython.core.display.HTML object>"
            ]
          },
          "metadata": {}
        }
      ]
    }
  ]
}